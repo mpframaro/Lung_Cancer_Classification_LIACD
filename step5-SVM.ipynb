{
 "cells": [
  {
   "cell_type": "markdown",
   "id": "8ecb2c58",
   "metadata": {},
   "source": [
    "# Análise SVM"
   ]
  },
  {
   "cell_type": "markdown",
   "id": "7e91cc0c",
   "metadata": {},
   "source": [
    "Neste notebook, iremos treinar um algoritmo SVM (Support Vector Machine) com nossos diferentes conjuntos de dados e analisar os resultados.\n",
    "\n",
    "Faremos uma comparação de acurácia entre a divisão de dados em treinamento e teste e uma validação cruzada de 10 dobras. \n",
    "\n",
    "Em seguida, analisaremos profundamente o desempenho desses modelos por meio de métricas de desempenho."
   ]
  },
  {
   "cell_type": "markdown",
   "id": "11a6eab9",
   "metadata": {},
   "source": [
    "O SVM é uma técnica poderosa para classificação que busca encontrar um hiperplano que melhor separa as classes em um espaço de características. \n",
    "\n",
    "A abordagem do SVM é particularmente eficaz em casos onde as classes não são linearmente separáveis, utilizando o truque do kernel para transformar os dados em um espaço de maior dimensão."
   ]
  },
  {
   "cell_type": "markdown",
   "id": "9a5da25d",
   "metadata": {},
   "source": [
    "# "
   ]
  },
  {
   "cell_type": "markdown",
   "id": "d00dee37",
   "metadata": {},
   "source": [
    "# 0. Libraries"
   ]
  },
  {
   "cell_type": "code",
   "execution_count": 1,
   "id": "7ce0806b",
   "metadata": {},
   "outputs": [],
   "source": [
    "import numpy as np\n",
    "import pandas as pd\n",
    "import seaborn as sns\n",
    "import matplotlib.pyplot as plt\n",
    "from sklearn.svm import SVC  # Importando a classe SVC para SVM\n",
    "from sklearn.model_selection import learning_curve\n",
    "from sklearn.model_selection import GridSearchCV\n",
    "from sklearn.model_selection import cross_val_score\n",
    "from sklearn.model_selection import train_test_split\n",
    "from sklearn.metrics import accuracy_score\n",
    "from sklearn.metrics import confusion_matrix\n",
    "from sklearn.metrics import classification_report\n",
    "from sklearn.metrics import roc_auc_score, roc_curve\n",
    "from sklearn.decomposition import PCA\n",
    "from sklearn.feature_selection import SelectKBest, f_classif\n",
    "from joblib import parallel_backend"
   ]
  },
  {
   "cell_type": "markdown",
   "id": "89b1a9c6",
   "metadata": {},
   "source": [
    "# "
   ]
  },
  {
   "cell_type": "markdown",
   "id": "8b980125",
   "metadata": {},
   "source": [
    "# 1. Organized By Slices"
   ]
  },
  {
   "cell_type": "markdown",
   "id": "8fbefe3b",
   "metadata": {},
   "source": [
    "## &emsp;&emsp;&emsp;1.1 Non Normalized Dataset"
   ]
  },
  {
   "cell_type": "code",
   "execution_count": 2,
   "id": "4367585c",
   "metadata": {},
   "outputs": [
    {
     "name": "stdout",
     "output_type": "stream",
     "text": [
      "Características selecionadas:\n",
      "['subtlety', 'calcification', 'lobulation', 'spiculation', 'diameter', 'surfaceArea', 'volume', 'diagnostics_Mask-original_VoxelNum', 'original_shape2D_MajorAxisLength', 'original_shape2D_MaximumDiameter', 'original_shape2D_MeshSurface', 'original_shape2D_MinorAxisLength', 'original_shape2D_Perimeter', 'original_shape2D_PerimeterSurfaceRatio', 'original_shape2D_PixelSurface', 'original_shape2D_Sphericity', 'original_glcm_Correlation', 'original_glcm_DifferenceAverage', 'original_glcm_Id', 'original_glcm_Idm', 'original_glcm_Idmn', 'original_glcm_Idn', 'original_glcm_Imc1', 'original_glcm_InverseVariance', 'original_glcm_JointEntropy', 'original_glcm_MCC', 'original_glcm_SumEntropy', 'original_gldm_DependenceEntropy', 'original_gldm_DependenceNonUniformity', 'original_gldm_DependenceNonUniformityNormalized', 'original_gldm_DependenceVariance', 'original_gldm_LargeDependenceEmphasis', 'original_gldm_LowGrayLevelEmphasis', 'original_gldm_SmallDependenceEmphasis', 'original_gldm_SmallDependenceLowGrayLevelEmphasis', 'original_glrlm_GrayLevelNonUniformity', 'original_glrlm_LowGrayLevelRunEmphasis', 'original_glrlm_RunEntropy', 'original_glrlm_RunLengthNonUniformity', 'original_glrlm_RunLengthNonUniformityNormalized', 'original_glrlm_RunPercentage', 'original_glrlm_ShortRunEmphasis', 'original_glrlm_ShortRunLowGrayLevelEmphasis', 'original_glszm_GrayLevelNonUniformity', 'original_glszm_LowGrayLevelZoneEmphasis', 'original_glszm_SizeZoneNonUniformity', 'original_glszm_SizeZoneNonUniformityNormalized', 'original_glszm_SmallAreaLowGrayLevelEmphasis', 'original_glszm_ZoneEntropy', 'original_glszm_ZonePercentage']\n",
      "Primeiras linhas de X_selected:\n",
      "    0    1    2    3          4           5           6     7          8    \n",
      "0  4.0  5.0  1.0  1.0   5.076662   66.910605   62.107500  25.0   6.229132  \\\n",
      "1  4.0  5.0  1.0  1.0   5.076662   66.910605   62.107500   9.0   3.265986   \n",
      "2  2.0  6.0  2.0  1.0  10.400431  228.703978  271.795095   9.0   4.618802   \n",
      "3  2.0  6.0  2.0  1.0  10.400431  228.703978  271.795095  57.0   9.322033   \n",
      "4  2.0  6.0  2.0  1.0  10.400431  228.703978  271.795095  60.0  10.875199   \n",
      "\n",
      "          9   ...        40        41        42        43        44   \n",
      "0   6.324555  ...  0.990000  0.992188  0.102199  1.416667  0.105326  \\\n",
      "1   3.605551  ...  1.000000  1.000000  0.156192  1.444444  0.156192   \n",
      "2   4.472136  ...  0.972222  0.976562  0.164270  1.250000  0.178663   \n",
      "3  10.770330  ...  0.925439  0.942017  0.039976  2.560976  0.049970   \n",
      "4  11.045361  ...  0.729167  0.785672  0.047092  2.636364  0.085644   \n",
      "\n",
      "          45        46        47        48        49  \n",
      "0  22.083333  0.920139  0.105280  4.168296  0.960000  \n",
      "1   9.000000  1.000000  0.156192  2.725481  1.000000  \n",
      "2   6.250000  0.781250  0.177888  2.750000  0.888889  \n",
      "3  22.609756  0.551457  0.048235  4.503417  0.719298  \n",
      "4   7.545455  0.342975  0.080159  4.095795  0.366667  \n",
      "\n",
      "[5 rows x 50 columns]\n",
      "\n",
      "Primeiras linhas de y:\n",
      "0   -1\n",
      "1   -1\n",
      "2   -1\n",
      "3   -1\n",
      "4   -1\n",
      "Name: malignancy, dtype: int64\n"
     ]
    }
   ],
   "source": [
    "\n",
    "# Lendo o conjunto de dados\n",
    "df_by_slices = pd.read_csv(\"final_by_slices.csv\")\n",
    "\n",
    "# Separando as características do rótulo\n",
    "X = df_by_slices.drop(\"malignancy\", axis=1)\n",
    "y = df_by_slices[\"malignancy\"]\n",
    "\n",
    "\n",
    "# Seleção de características\n",
    "selector = SelectKBest(score_func=f_classif, k=50)\n",
    "X_selected = selector.fit_transform(X, y)\n",
    "\n",
    "# Convertendo X_selected para um DataFrame\n",
    "X_selected = pd.DataFrame(X_selected)\n",
    "X_selected = X_selected.round(10)\n",
    "\n",
    "# Criando conjuntos de treinamento e teste\n",
    "X_train, X_test, y_train, y_test = train_test_split(X_selected, y, test_size=0.3, random_state=42)\n",
    "# Obtendo os índices das características selecionadas\n",
    "selected_indices = selector.get_support(indices=True)\n",
    "# Obtendo os nomes das características selecionadas\n",
    "selected_features = X.columns[selected_indices]\n",
    "\n",
    "# Imprimindo os nomes das características selecionadas\n",
    "print(\"Características selecionadas:\")\n",
    "print(selected_features.tolist())\n",
    "# Imprimindo as primeiras linhas de X_selected, X_reduced e y\n",
    "print(\"Primeiras linhas de X_selected:\")\n",
    "print(X_selected[:5])  # Imprime as primeiras 5 linhas de X_selected\n",
    "\n",
    "\n",
    "print(\"\\nPrimeiras linhas de y:\")\n",
    "print(y.head())  # Imprime as primeiras 5 linhas de y\n",
    "\n"
   ]
  },
  {
   "cell_type": "code",
   "execution_count": 4,
   "id": "eac2865e",
   "metadata": {},
   "outputs": [
    {
     "name": "stdout",
     "output_type": "stream",
     "text": [
      "Melhores parâmetros encontrados:\n",
      "{'C': 10, 'gamma': 'scale', 'kernel': 'rbf'}\n",
      "Acurácia (Train-Test Split): 0.80\n",
      "Relatório de Classificação:\n",
      "              precision    recall  f1-score   support\n",
      "\n",
      "          -1       0.79      0.81      0.80      5153\n",
      "           1       0.80      0.78      0.79      5047\n",
      "\n",
      "    accuracy                           0.80     10200\n",
      "   macro avg       0.80      0.80      0.80     10200\n",
      "weighted avg       0.80      0.80      0.80     10200\n",
      "\n"
     ]
    }
   ],
   "source": [
    "# Definindo os parâmetros para o GridSearch\n",
    "param_grid = {'C': [0.1, 1, 10], 'gamma': ['scale'], 'kernel': ['rbf']}\n",
    "\n",
    "\n",
    "# Criando o classificador SVM\n",
    "svm = SVC(probability=True)\n",
    "\n",
    "# Configurando o GridSearchCV\n",
    "grid_search = GridSearchCV(svm, param_grid, cv=2, scoring='accuracy', n_jobs=-1)\n",
    "\n",
    "# Ajustando o modelo\n",
    "grid_search.fit(X_train, y_train)\n",
    "\n",
    "# Exibindo os melhores parâmetros\n",
    "print(\"Melhores parâmetros encontrados:\")\n",
    "print(grid_search.best_params_)\n",
    "\n",
    "# Usando o melhor modelo para prever no conjunto de teste\n",
    "best_svm = grid_search.best_estimator_\n",
    "y_pred = best_svm.predict(X_test)\n",
    "\n",
    "# Calculando a acurácia para a divisão de treino-teste\n",
    "accuracy = accuracy_score(y_test, y_pred)\n",
    "print(f'Acurácia (Train-Test Split): {accuracy:.2f}')\n",
    "\n",
    "# Relatório de classificação\n",
    "print(\"Relatório de Classificação:\")\n",
    "print(classification_report(y_test, y_pred))\n",
    "\n"
   ]
  },
  {
   "cell_type": "code",
   "execution_count": 4,
   "id": "a812340b",
   "metadata": {},
   "outputs": [
    {
     "name": "stdout",
     "output_type": "stream",
     "text": [
      "Acurácia (10-Fold Cross Validation): 0.79 ± 0.02\n"
     ]
    }
   ],
   "source": [
    "# Calculando a acurácia para validação cruzada de 5 dobras\n",
    "with parallel_backend('threading', n_jobs=-1):  # Usa todos os núcleos disponíveis\n",
    "    cv_scores = cross_val_score(best_svm, X_selected, y, cv=5)\n",
    "print(f'Acurácia (10-Fold Cross Validation): {cv_scores.mean():.2f} ± {cv_scores.std():.2f}')"
   ]
  },
  {
   "cell_type": "code",
   "execution_count": 5,
   "id": "30e5f261",
   "metadata": {},
   "outputs": [
    {
     "data": {
      "image/png": "[encoded data removed]",
      "text/plain": [
       "<Figure size 600x400 with 1 Axes>"
      ]
     },
     "metadata": {},
     "output_type": "display_data"
    }
   ],
   "source": [
    "# Obtendo a matriz de confusão\n",
    "cm = confusion_matrix(y_test, y_pred)\n",
    "\n",
    "#plot the confusion matrix\n",
    "plt.figure(figsize=(6, 4))\n",
    "sns.heatmap(cm, annot=True, fmt=\"d\", cmap=\"Blues\", cbar=False)\n",
    "plt.xlabel('Rótulos Previsto')\n",
    "plt.ylabel('Rótulos Verdadeiros')\n",
    "plt.title('Matriz de Confusão')\n",
    "plt.show()\n",
    "\n",
    "\n",
    "#---------\n",
    "\n"
   ]
  },
  {
   "cell_type": "code",
   "execution_count": null,
   "id": "c29c3491",
   "metadata": {},
   "outputs": [
    {
     "name": "stdout",
     "output_type": "stream",
     "text": [
      "AUC: 0.87\n"
     ]
    },
    {
     "data": {
      "image/png": "[encoded data removed]",
      "text/plain": [
       "<Figure size 640x480 with 1 Axes>"
      ]
     },
     "metadata": {},
     "output_type": "display_data"
    }
   ],
   "source": [
    "# Probabilidades para a classe positiva (classe 1)\n",
    "y_proba = best_svm.predict_proba(X_test)[:, 1]\n",
    "\n",
    "# Obtendo AUC\n",
    "roc_auc = roc_auc_score(y_test, y_proba)\n",
    "print(f'AUC: {roc_auc:.2f}')\n",
    "\n",
    "# Computando a curva ROC\n",
    "fpr, tpr, thresholds = roc_curve(y_test, y_proba)\n",
    "\n",
    "# Plotando a curva ROC\n",
    "plt.figure()\n",
    "plt.plot(fpr, tpr, label='Curva ROC (AUC = %0.2f)' % roc_auc)\n",
    "plt.plot([0, 1], [0, 1], 'k--')  # Linha diagonal\n",
    "plt.xlim([0.0, 1.0])\n",
    "plt.ylim([0.0, 1.05])\n",
    "plt.xlabel('Taxa de Falsos Positivos')\n",
    "plt.ylabel('Taxa de Verdadeiros Positivos')\n",
    "plt.title('Curva Receiver Operating Characteristic')\n",
    "plt.legend(loc='lower right')\n",
    "plt.show()\n",
    "\n",
    "# Obtendo as curvas de aprendizado\n",
    "with parallel_backend('threading', n_jobs=-1):  # Usa todos os núcleos disponíveis\n",
    "    train_sizes, train_scores, test_scores = learning_curve(\n",
    "        best_svm, X_selected, y, cv=5, n_jobs=-1, train_sizes=np.linspace(0.1, 1.0, 5)\n",
    "    )\n",
    "\n",
    "# Calculando a média e desvio padrão das pontuações\n",
    "train_scores_mean = np.mean(train_scores, axis=1)\n",
    "test_scores_mean = np.mean(test_scores, axis=1)\n",
    "train_scores_std = np.std(train_scores, axis=1)\n",
    "test_scores_std = np.std(test_scores, axis=1)\n",
    "\n",
    "# Plotando as curvas de aprendizado\n",
    "plt.figure()\n",
    "plt.plot(train_sizes, train_scores_mean, label='Acurácia de Treinamento', color='blue')\n",
    "plt.plot(train_sizes, test_scores_mean, label='Acurácia de Teste', color='green')\n",
    "\n",
    "# Preenchendo a área entre as curvas\n",
    "plt.fill_between(train_sizes, train_scores_mean - train_scores_std, train_scores_mean + train_scores_std, color='blue', alpha=0.1)\n",
    "plt.fill_between(train_sizes, test_scores_mean - test_scores_std, test_scores_mean + test_scores_std, color='green', alpha=0.1)\n",
    "\n",
    "plt.title('Curvas de Aprendizado')\n",
    "plt.xlabel('Tamanho do Conjunto de Treinamento')\n",
    "plt.ylabel('Acurácia')\n",
    "plt.legend(loc='best')\n",
    "plt.grid()\n",
    "plt.show()"
   ]
  },
  {
   "cell_type": "markdown",
   "id": "b3ffe096",
   "metadata": {},
   "source": [
    "## "
   ]
  },
  {
   "cell_type": "markdown",
   "id": "bf55ab0e",
   "metadata": {},
   "source": [
    "## &emsp;&emsp;&emsp;1.2 Normalized Dataset"
   ]
  },
  {
   "cell_type": "code",
   "execution_count": null,
   "id": "d24c2cf6",
   "metadata": {},
   "outputs": [],
   "source": [
    "# Leitura do conjunto de dados\n",
    "df_by_slices_normalized = pd.read_csv(\"final_by_slices_normalized.csv\")\n",
    "\n",
    "# Separação de recursos e rótulos\n",
    "X = df_by_slices_normalized.drop(\"malignancy\", axis=1)\n",
    "y = df_by_slices_normalized[\"malignancy\"]\n",
    "\n",
    "# Seleção de características\n",
    "selector = SelectKBest(score_func=f_classif, k=50)\n",
    "X_selected = selector.fit_transform(X, y)\n",
    "\n",
    "# Convertendo X_selected para um DataFrame\n",
    "X_selected = pd.DataFrame(X_selected)\n",
    "X_selected = X_selected.round(10)\n",
    "\n",
    "\n",
    "# Divisão do conjunto de dados em conjuntos de treinamento e teste\n",
    "X_train, X_test, y_train, y_test = train_test_split(X_selected, y, test_size=0.3, random_state=42)\n",
    "\n",
    "# Obtendo os índices das características selecionadas\n",
    "selected_indices = selector.get_support(indices=True)\n",
    "# Obtendo os nomes das características selecionadas\n",
    "selected_features = X.columns[selected_indices]\n",
    "\n",
    "# Imprimindo os nomes das características selecionadas\n",
    "print(\"Características selecionadas:\")\n",
    "print(selected_features.tolist())\n",
    "# Imprimindo as primeiras linhas de X_selected, X_reduced e y\n",
    "print(\"Primeiras linhas de X_selected:\")\n",
    "print(X_selected[:5])  # Imprime as primeiras 5 linhas de X_selected\n",
    "\n",
    "\n",
    "print(\"\\nPrimeiras linhas de y:\")\n",
    "print(y.head())  # Imprime as primeiras 5 linhas de y\n"
   ]
  },
  {
   "cell_type": "code",
   "execution_count": null,
   "id": "730e7fba",
   "metadata": {},
   "outputs": [],
   "source": [
    "# Criação do classificador SVM\n",
    "svm_model = SVC(kernel='rbf', C=10, gamma='scale', probability=True)\n",
    "# Ajuste do modelo SVM\n",
    "svm_model.fit(X_train, y_train)\n",
    "\n",
    "# Previsão com o modelo SVM\n",
    "y_pred_svm = svm_model.predict(X_test)\n",
    "\n",
    "# Cálculo da acurácia do modelo SVM\n",
    "accuracy_svm = accuracy_score(y_test, y_pred_svm)\n",
    "print(f'Acurácia do modelo SVM (Train-Test Split): {accuracy_svm:.2f}')\n",
    "\n",
    "\n",
    "# Relatório de classificação\n",
    "print(\"Relatório de Classificação:\")\n",
    "print(classification_report(y_test, y_pred))"
   ]
  },
  {
   "cell_type": "code",
   "execution_count": null,
   "id": "e4f8e006",
   "metadata": {},
   "outputs": [],
   "source": [
    "# Cálculo da acurácia com validação cruzada para o modelo SVM usando Joblib\n",
    "with parallel_backend('threading', n_jobs=-1):  # Usa todos os núcleos disponíveis\n",
    "    cv_scores_svm = cross_val_score(svm_model, X_selected, y, cv=5)\n",
    "\n",
    "print(f'Acurácia média com validação cruzada (10 dobras): {cv_scores_svm.mean():.2f} ± {cv_scores_svm.std():.2f}')\n"
   ]
  },
  {
   "cell_type": "code",
   "execution_count": null,
   "id": "7f2d354a",
   "metadata": {},
   "outputs": [
    {
     "data": {
      "image/png": "[encoded data removed]",
      "text/plain": [
       "<Figure size 600x400 with 1 Axes>"
      ]
     },
     "metadata": {},
     "output_type": "display_data"
    }
   ],
   "source": [
    "# Obtendo a matriz de confusão\n",
    "cm = confusion_matrix(y_test, y_pred)\n",
    "\n",
    "#plot the confusion matrix\n",
    "plt.figure(figsize=(6, 4))\n",
    "sns.heatmap(cm, annot=True, fmt=\"d\", cmap=\"Blues\", cbar=False)\n",
    "plt.xlabel('Rótulos Previsto')\n",
    "plt.ylabel('Rótulos Verdadeiros')\n",
    "plt.title('Matriz de Confusão')\n",
    "plt.show()\n",
    "\n",
    "\n",
    "#---------\n",
    "\n"
   ]
  },
  {
   "cell_type": "code",
   "execution_count": null,
   "metadata": {},
   "outputs": [
    {
     "name": "stdout",
     "output_type": "stream",
     "text": [
      "AUC: 0.87\n"
     ]
    },
    {
     "data": {
      "image/png": "[encoded data removed]",
      "text/plain": [
       "<Figure size 640x480 with 1 Axes>"
      ]
     },
     "metadata": {},
     "output_type": "display_data"
    }
   ],
   "source": [
    "# Probabilidades para a classe positiva (classe 1)\n",
    "y_proba = svm_model.predict_proba(X_test)[:, 1]\n",
    "\n",
    "# Obtendo AUC\n",
    "roc_auc = roc_auc_score(y_test, y_proba)\n",
    "print(f'AUC: {roc_auc:.2f}')\n",
    "\n",
    "# Computando a curva ROC\n",
    "fpr, tpr, thresholds = roc_curve(y_test, y_proba)\n",
    "\n",
    "# Plotando a curva ROC\n",
    "plt.figure()\n",
    "plt.plot(fpr, tpr, label='Curva ROC (AUC = %0.2f)' % roc_auc)\n",
    "plt.plot([0, 1], [0, 1], 'k--')  # Linha diagonal\n",
    "plt.xlim([0.0, 1.0])\n",
    "plt.ylim([0.0, 1.05])\n",
    "plt.xlabel('Taxa de Falsos Positivos')\n",
    "plt.ylabel('Taxa de Verdadeiros Positivos')\n",
    "plt.title('Curva Receiver Operating Characteristic')\n",
    "plt.legend(loc='lower right')\n",
    "plt.show()\n",
    "\n",
    "# Obtendo as curvas de aprendizado\n",
    "with parallel_backend('threading', n_jobs=-1):  # Usa todos os núcleos disponíveis\n",
    "    train_sizes, train_scores, test_scores = learning_curve(\n",
    "        svm_model, X_selected, y, cv=5, n_jobs=-1, train_sizes=np.linspace(0.1, 1.0, 5)\n",
    "    )\n",
    "\n",
    "# Calculando a média e desvio padrão das pontuações\n",
    "train_scores_mean = np.mean(train_scores, axis=1)\n",
    "test_scores_mean = np.mean(test_scores, axis=1)\n",
    "train_scores_std = np.std(train_scores, axis=1)\n",
    "test_scores_std = np.std(test_scores, axis=1)\n",
    "\n",
    "# Plotando as curvas de aprendizado\n",
    "plt.figure()\n",
    "plt.plot(train_sizes, train_scores_mean, label='Acurácia de Treinamento', color='blue')\n",
    "plt.plot(train_sizes, test_scores_mean, label='Acurácia de Teste', color='green')\n",
    "\n",
    "# Preenchendo a área entre as curvas\n",
    "plt.fill_between(train_sizes, train_scores_mean - train_scores_std, train_scores_mean + train_scores_std, color='blue', alpha=0.1)\n",
    "plt.fill_between(train_sizes, test_scores_mean - test_scores_std, test_scores_mean + test_scores_std, color='green', alpha=0.1)\n",
    "\n",
    "plt.title('Curvas de Aprendizado')\n",
    "plt.xlabel('Tamanho do Conjunto de Treinamento')\n",
    "plt.ylabel('Acurácia')\n",
    "plt.legend(loc='best')\n",
    "plt.grid()\n",
    "plt.show()"
   ]
  },
  {
   "cell_type": "markdown",
   "id": "3e49d9dd",
   "metadata": {},
   "source": [
    "# "
   ]
  },
  {
   "cell_type": "markdown",
   "id": "14fb8d2a",
   "metadata": {},
   "source": [
    "# 2. Organized By Annotations"
   ]
  },
  {
   "cell_type": "markdown",
   "id": "deae6ab5",
   "metadata": {},
   "source": [
    "## &emsp;&emsp;&emsp;2.1 Non Normalized Dataset"
   ]
  },
  {
   "cell_type": "code",
   "execution_count": null,
   "id": "4da8d71e",
   "metadata": {},
   "outputs": [],
   "source": [
    "#reading the dataset\n",
    "df_by_annotations = pd.read_csv(\"final_by_annotations.csv\")\n",
    "\n",
    "#separate the features from the label\n",
    "X = df_by_annotations.drop(\"malignancy\", axis=1)\n",
    "y = df_by_annotations[\"malignancy\"]\n",
    "# Seleção de características\n",
    "selector = SelectKBest(score_func=f_classif, k=50)\n",
    "X_selected = selector.fit_transform(X, y)\n",
    "\n",
    "# Convertendo X_selected para um DataFrame\n",
    "X_selected = pd.DataFrame(X_selected)\n",
    "X_selected = X_selected.round(10)\n",
    "\n",
    "\n",
    "# Divisão do conjunto de dados em conjuntos de treinamento e teste\n",
    "X_train, X_test, y_train, y_test = train_test_split(X_selected, y, test_size=0.3, random_state=42)\n",
    "\n",
    "# Obtendo os índices das características selecionadas\n",
    "selected_indices = selector.get_support(indices=True)\n",
    "# Obtendo os nomes das características selecionadas\n",
    "selected_features = X.columns[selected_indices]\n",
    "\n",
    "# Imprimindo os nomes das características selecionadas\n",
    "print(\"Características selecionadas:\")\n",
    "print(selected_features.tolist())\n",
    "# Imprimindo as primeiras linhas de X_selected, X_reduced e y\n",
    "print(\"Primeiras linhas de X_selected:\")\n",
    "print(X_selected[:5])  # Imprime as primeiras 5 linhas de X_selected\n",
    "\n",
    "\n",
    "print(\"\\nPrimeiras linhas de y:\")\n",
    "print(y.head())  # Imprime as primeiras 5 linhas de y"
   ]
  },
  {
   "cell_type": "code",
   "execution_count": null,
   "id": "ea18f59a",
   "metadata": {},
   "outputs": [],
   "source": [
    "# Criação do classificador SVM\n",
    "svm_model = SVC(kernel='rbf', C=10, gamma='scale', probability=True)\n",
    "# Ajuste do modelo SVM\n",
    "svm_model.fit(X_train, y_train)\n",
    "\n",
    "# Previsão com o modelo SVM\n",
    "y_pred_svm = svm_model.predict(X_test)\n",
    "\n",
    "# Cálculo da acurácia do modelo SVM\n",
    "accuracy_svm = accuracy_score(y_test, y_pred_svm)\n",
    "print(f'Acurácia do modelo SVM (Train-Test Split): {accuracy_svm:.2f}')\n",
    "\n",
    "\n",
    "# Relatório de classificação\n",
    "print(\"Relatório de Classificação:\")\n",
    "print(classification_report(y_test, y_pred))"
   ]
  },
  {
   "cell_type": "code",
   "execution_count": null,
   "id": "69006b3e",
   "metadata": {},
   "outputs": [],
   "source": [
    "# Cálculo da acurácia com validação cruzada para o modelo SVM usando Joblib\n",
    "with parallel_backend('threading', n_jobs=-1):  # Usa todos os núcleos disponíveis\n",
    "    cv_scores_svm = cross_val_score(svm_model, X_selected, y, cv=5)\n",
    "\n",
    "print(f'Acurácia média com validação cruzada (10 dobras): {cv_scores_svm.mean():.2f} ± {cv_scores_svm.std():.2f}')\n"
   ]
  },
  {
   "cell_type": "code",
   "execution_count": null,
   "id": "f9dae6fb",
   "metadata": {},
   "outputs": [],
   "source": [
    "# Obtendo a matriz de confusão\n",
    "cm = confusion_matrix(y_test, y_pred)\n",
    "\n",
    "#plot the confusion matrix\n",
    "plt.figure(figsize=(6, 4))\n",
    "sns.heatmap(cm, annot=True, fmt=\"d\", cmap=\"Blues\", cbar=False)\n",
    "plt.xlabel('Rótulos Previsto')\n",
    "plt.ylabel('Rótulos Verdadeiros')\n",
    "plt.title('Matriz de Confusão')\n",
    "plt.show()\n",
    "\n",
    "\n",
    "#---------\n",
    "\n"
   ]
  },
  {
   "cell_type": "code",
   "execution_count": null,
   "id": "13227f96",
   "metadata": {},
   "outputs": [],
   "source": [
    "# Probabilidades para a classe positiva (classe 1)\n",
    "y_proba = svm_model.predict_proba(X_test)[:, 1]\n",
    "\n",
    "# Obtendo AUC\n",
    "roc_auc = roc_auc_score(y_test, y_proba)\n",
    "print(f'AUC: {roc_auc:.2f}')\n",
    "\n",
    "# Computando a curva ROC\n",
    "fpr, tpr, thresholds = roc_curve(y_test, y_proba)\n",
    "\n",
    "# Plotando a curva ROC\n",
    "plt.figure()\n",
    "plt.plot(fpr, tpr, label='Curva ROC (AUC = %0.2f)' % roc_auc)\n",
    "plt.plot([0, 1], [0, 1], 'k--')  # Linha diagonal\n",
    "plt.xlim([0.0, 1.0])\n",
    "plt.ylim([0.0, 1.05])\n",
    "plt.xlabel('Taxa de Falsos Positivos')\n",
    "plt.ylabel('Taxa de Verdadeiros Positivos')\n",
    "plt.title('Curva Receiver Operating Characteristic')\n",
    "plt.legend(loc='lower right')\n",
    "plt.show()\n",
    "\n",
    "# Obtendo as curvas de aprendizado\n",
    "with parallel_backend('threading', n_jobs=-1):  # Usa todos os núcleos disponíveis\n",
    "    train_sizes, train_scores, test_scores = learning_curve(\n",
    "        svm_model, X_selected, y, cv=5, n_jobs=-1, train_sizes=np.linspace(0.1, 1.0, 5)\n",
    "    )\n",
    "\n",
    "# Calculando a média e desvio padrão das pontuações\n",
    "train_scores_mean = np.mean(train_scores, axis=1)\n",
    "test_scores_mean = np.mean(test_scores, axis=1)\n",
    "train_scores_std = np.std(train_scores, axis=1)\n",
    "test_scores_std = np.std(test_scores, axis=1)\n",
    "\n",
    "# Plotando as curvas de aprendizado\n",
    "plt.figure()\n",
    "plt.plot(train_sizes, train_scores_mean, label='Acurácia de Treinamento', color='blue')\n",
    "plt.plot(train_sizes, test_scores_mean, label='Acurácia de Teste', color='green')\n",
    "\n",
    "# Preenchendo a área entre as curvas\n",
    "plt.fill_between(train_sizes, train_scores_mean - train_scores_std, train_scores_mean + train_scores_std, color='blue', alpha=0.1)\n",
    "plt.fill_between(train_sizes, test_scores_mean - test_scores_std, test_scores_mean + test_scores_std, color='green', alpha=0.1)\n",
    "\n",
    "plt.title('Curvas de Aprendizado')\n",
    "plt.xlabel('Tamanho do Conjunto de Treinamento')\n",
    "plt.ylabel('Acurácia')\n",
    "plt.legend(loc='best')\n",
    "plt.grid()\n",
    "plt.show()"
   ]
  },
  {
   "cell_type": "markdown",
   "id": "1e0e389c",
   "metadata": {},
   "source": [
    "## "
   ]
  },
  {
   "cell_type": "markdown",
   "id": "32c43e17",
   "metadata": {},
   "source": [
    "## &emsp;&emsp;&emsp;2.2 Normalized Dataset"
   ]
  },
  {
   "cell_type": "code",
   "execution_count": null,
   "id": "8baa0e13",
   "metadata": {},
   "outputs": [],
   "source": [
    "#reading the dataset\n",
    "df_by_annotations_normalized = pd.read_csv(\"final_by_annotations_normalized.csv\")\n",
    "\n",
    "#separate the features from the label\n",
    "X = df_by_annotations_normalized.drop(\"malignancy\", axis=1)\n",
    "y = df_by_annotations_normalized[\"malignancy\"]\n",
    "# Seleção de características\n",
    "selector = SelectKBest(score_func=f_classif, k=50)\n",
    "X_selected = selector.fit_transform(X, y)\n",
    "\n",
    "# Convertendo X_selected para um DataFrame\n",
    "X_selected = pd.DataFrame(X_selected)\n",
    "X_selected = X_selected.round(10)\n",
    "\n",
    "\n",
    "# Divisão do conjunto de dados em conjuntos de treinamento e teste\n",
    "X_train, X_test, y_train, y_test = train_test_split(X_selected, y, test_size=0.3, random_state=42)\n",
    "\n",
    "# Obtendo os índices das características selecionadas\n",
    "selected_indices = selector.get_support(indices=True)\n",
    "# Obtendo os nomes das características selecionadas\n",
    "selected_features = X.columns[selected_indices]\n",
    "\n",
    "# Imprimindo os nomes das características selecionadas\n",
    "print(\"Características selecionadas:\")\n",
    "print(selected_features.tolist())\n",
    "# Imprimindo as primeiras linhas de X_selected, X_reduced e y\n",
    "print(\"Primeiras linhas de X_selected:\")\n",
    "print(X_selected[:5])  # Imprime as primeiras 5 linhas de X_selected\n",
    "\n",
    "\n",
    "print(\"\\nPrimeiras linhas de y:\")\n",
    "print(y.head())  # Imprime as primeiras 5 linhas de y"
   ]
  },
  {
   "cell_type": "code",
   "execution_count": null,
   "id": "4f5f5aab",
   "metadata": {},
   "outputs": [],
   "source": [
    "# Criação do classificador SVM\n",
    "svm_model = SVC(kernel='rbf', C=10, gamma='scale', probability=True)\n",
    "# Ajuste do modelo SVM\n",
    "svm_model.fit(X_train, y_train)\n",
    "\n",
    "# Previsão com o modelo SVM\n",
    "y_pred_svm = svm_model.predict(X_test)\n",
    "\n",
    "# Cálculo da acurácia do modelo SVM\n",
    "accuracy_svm = accuracy_score(y_test, y_pred_svm)\n",
    "print(f'Acurácia do modelo SVM (Train-Test Split): {accuracy_svm:.2f}')\n",
    "\n",
    "\n",
    "# Relatório de classificação\n",
    "print(\"Relatório de Classificação:\")\n",
    "print(classification_report(y_test, y_pred))"
   ]
  },
  {
   "cell_type": "code",
   "execution_count": null,
   "id": "0c229a72",
   "metadata": {},
   "outputs": [],
   "source": [
    "# Cálculo da acurácia com validação cruzada para o modelo SVM usando Joblib\n",
    "with parallel_backend('threading', n_jobs=-1):  # Usa todos os núcleos disponíveis\n",
    "    cv_scores_svm = cross_val_score(svm_model, X_selected, y, cv=5)\n",
    "\n",
    "print(f'Acurácia média com validação cruzada (10 dobras): {cv_scores_svm.mean():.2f} ± {cv_scores_svm.std():.2f}')\n"
   ]
  },
  {
   "cell_type": "code",
   "execution_count": null,
   "id": "a7c8403c",
   "metadata": {},
   "outputs": [],
   "source": [
    "# Obtendo a matriz de confusão\n",
    "cm = confusion_matrix(y_test, y_pred)\n",
    "\n",
    "#plot the confusion matrix\n",
    "plt.figure(figsize=(6, 4))\n",
    "sns.heatmap(cm, annot=True, fmt=\"d\", cmap=\"Blues\", cbar=False)\n",
    "plt.xlabel('Rótulos Previsto')\n",
    "plt.ylabel('Rótulos Verdadeiros')\n",
    "plt.title('Matriz de Confusão')\n",
    "plt.show()\n",
    "\n",
    "\n",
    "#---------\n",
    "\n"
   ]
  },
  {
   "cell_type": "code",
   "execution_count": null,
   "id": "da1c1794",
   "metadata": {},
   "outputs": [],
   "source": [
    "# Probabilidades para a classe positiva (classe 1)\n",
    "y_proba = svm_model.predict_proba(X_test)[:, 1]\n",
    "\n",
    "# Obtendo AUC\n",
    "roc_auc = roc_auc_score(y_test, y_proba)\n",
    "print(f'AUC: {roc_auc:.2f}')\n",
    "\n",
    "# Computando a curva ROC\n",
    "fpr, tpr, thresholds = roc_curve(y_test, y_proba)\n",
    "\n",
    "# Plotando a curva ROC\n",
    "plt.figure()\n",
    "plt.plot(fpr, tpr, label='Curva ROC (AUC = %0.2f)' % roc_auc)\n",
    "plt.plot([0, 1], [0, 1], 'k--')  # Linha diagonal\n",
    "plt.xlim([0.0, 1.0])\n",
    "plt.ylim([0.0, 1.05])\n",
    "plt.xlabel('Taxa de Falsos Positivos')\n",
    "plt.ylabel('Taxa de Verdadeiros Positivos')\n",
    "plt.title('Curva Receiver Operating Characteristic')\n",
    "plt.legend(loc='lower right')\n",
    "plt.show()\n",
    "\n",
    "# Obtendo as curvas de aprendizado\n",
    "with parallel_backend('threading', n_jobs=-1):  # Usa todos os núcleos disponíveis\n",
    "    train_sizes, train_scores, test_scores = learning_curve(\n",
    "        svm_model, X_selected, y, cv=5, n_jobs=-1, train_sizes=np.linspace(0.1, 1.0, 5)\n",
    "    )\n",
    "\n",
    "# Calculando a média e desvio padrão das pontuações\n",
    "train_scores_mean = np.mean(train_scores, axis=1)\n",
    "test_scores_mean = np.mean(test_scores, axis=1)\n",
    "train_scores_std = np.std(train_scores, axis=1)\n",
    "test_scores_std = np.std(test_scores, axis=1)\n",
    "\n",
    "# Plotando as curvas de aprendizado\n",
    "plt.figure()\n",
    "plt.plot(train_sizes, train_scores_mean, label='Acurácia de Treinamento', color='blue')\n",
    "plt.plot(train_sizes, test_scores_mean, label='Acurácia de Teste', color='green')\n",
    "\n",
    "# Preenchendo a área entre as curvas\n",
    "plt.fill_between(train_sizes, train_scores_mean - train_scores_std, train_scores_mean + train_scores_std, color='blue', alpha=0.1)\n",
    "plt.fill_between(train_sizes, test_scores_mean - test_scores_std, test_scores_mean + test_scores_std, color='green', alpha=0.1)\n",
    "\n",
    "plt.title('Curvas de Aprendizado')\n",
    "plt.xlabel('Tamanho do Conjunto de Treinamento')\n",
    "plt.ylabel('Acurácia')\n",
    "plt.legend(loc='best')\n",
    "plt.grid()\n",
    "plt.show()"
   ]
  },
  {
   "cell_type": "markdown",
   "id": "acfb243b",
   "metadata": {},
   "source": [
    "# "
   ]
  },
  {
   "cell_type": "markdown",
   "id": "1b61cd2c",
   "metadata": {},
   "source": [
    "# 3. Organized By Nodules"
   ]
  },
  {
   "cell_type": "markdown",
   "id": "32352992",
   "metadata": {},
   "source": [
    "## &emsp;&emsp;&emsp;3.1 Non Normalized Dataset"
   ]
  },
  {
   "cell_type": "code",
   "execution_count": null,
   "id": "67e85600",
   "metadata": {},
   "outputs": [],
   "source": [
    "#reading the dataset\n",
    "df_by_nodules = pd.read_csv(\"final_by_nodules.csv\")\n",
    "\n",
    "#separate the features from the label\n",
    "X = df_by_nodules.drop(\"malignancy\", axis=1)\n",
    "y = df_by_nodules[\"malignancy\"]\n",
    "\n",
    "# Seleção de características\n",
    "selector = SelectKBest(score_func=f_classif, k=50)\n",
    "X_selected = selector.fit_transform(X, y)\n",
    "\n",
    "# Convertendo X_selected para um DataFrame\n",
    "X_selected = pd.DataFrame(X_selected)\n",
    "X_selected = X_selected.round(10)\n",
    "\n",
    "\n",
    "# Divisão do conjunto de dados em conjuntos de treinamento e teste\n",
    "X_train, X_test, y_train, y_test = train_test_split(X_selected, y, test_size=0.3, random_state=42)\n",
    "\n",
    "# Obtendo os índices das características selecionadas\n",
    "selected_indices = selector.get_support(indices=True)\n",
    "# Obtendo os nomes das características selecionadas\n",
    "selected_features = X.columns[selected_indices]\n",
    "\n",
    "# Imprimindo os nomes das características selecionadas\n",
    "print(\"Características selecionadas:\")\n",
    "print(selected_features.tolist())\n",
    "# Imprimindo as primeiras linhas de X_selected, X_reduced e y\n",
    "print(\"Primeiras linhas de X_selected:\")\n",
    "print(X_selected[:5])  # Imprime as primeiras 5 linhas de X_selected\n",
    "\n",
    "\n",
    "print(\"\\nPrimeiras linhas de y:\")\n",
    "print(y.head())  # Imprime as primeiras 5 linhas de y"
   ]
  },
  {
   "cell_type": "code",
   "execution_count": null,
   "id": "31fcf934",
   "metadata": {},
   "outputs": [],
   "source": [
    "# Criação do classificador SVM\n",
    "svm_model = SVC(kernel='rbf', C=10, gamma='scale', probability=True)\n",
    "# Ajuste do modelo SVM\n",
    "svm_model.fit(X_train, y_train)\n",
    "\n",
    "# Previsão com o modelo SVM\n",
    "y_pred_svm = svm_model.predict(X_test)\n",
    "\n",
    "# Cálculo da acurácia do modelo SVM\n",
    "accuracy_svm = accuracy_score(y_test, y_pred_svm)\n",
    "print(f'Acurácia do modelo SVM (Train-Test Split): {accuracy_svm:.2f}')\n",
    "\n",
    "\n",
    "# Relatório de classificação\n",
    "print(\"Relatório de Classificação:\")\n",
    "print(classification_report(y_test, y_pred))"
   ]
  },
  {
   "cell_type": "code",
   "execution_count": null,
   "id": "46c5b274",
   "metadata": {},
   "outputs": [],
   "source": [
    "# Cálculo da acurácia com validação cruzada para o modelo SVM usando Joblib\n",
    "with parallel_backend('threading', n_jobs=-1):  # Usa todos os núcleos disponíveis\n",
    "    cv_scores_svm = cross_val_score(svm_model, X_selected, y, cv=5)\n",
    "\n",
    "print(f'Acurácia média com validação cruzada (10 dobras): {cv_scores_svm.mean():.2f} ± {cv_scores_svm.std():.2f}')\n"
   ]
  },
  {
   "cell_type": "code",
   "execution_count": null,
   "id": "4e002624",
   "metadata": {},
   "outputs": [],
   "source": [
    "# Obtendo a matriz de confusão\n",
    "cm = confusion_matrix(y_test, y_pred)\n",
    "\n",
    "#plot the confusion matrix\n",
    "plt.figure(figsize=(6, 4))\n",
    "sns.heatmap(cm, annot=True, fmt=\"d\", cmap=\"Blues\", cbar=False)\n",
    "plt.xlabel('Rótulos Previsto')\n",
    "plt.ylabel('Rótulos Verdadeiros')\n",
    "plt.title('Matriz de Confusão')\n",
    "plt.show()\n",
    "\n",
    "\n",
    "#---------\n",
    "\n"
   ]
  },
  {
   "cell_type": "code",
   "execution_count": null,
   "id": "0ac038e8",
   "metadata": {},
   "outputs": [],
   "source": [
    "# Probabilidades para a classe positiva (classe 1)\n",
    "y_proba = svm_model.predict_proba(X_test)[:, 1]\n",
    "\n",
    "# Obtendo AUC\n",
    "roc_auc = roc_auc_score(y_test, y_proba)\n",
    "print(f'AUC: {roc_auc:.2f}')\n",
    "\n",
    "# Computando a curva ROC\n",
    "fpr, tpr, thresholds = roc_curve(y_test, y_proba)\n",
    "\n",
    "# Plotando a curva ROC\n",
    "plt.figure()\n",
    "plt.plot(fpr, tpr, label='Curva ROC (AUC = %0.2f)' % roc_auc)\n",
    "plt.plot([0, 1], [0, 1], 'k--')  # Linha diagonal\n",
    "plt.xlim([0.0, 1.0])\n",
    "plt.ylim([0.0, 1.05])\n",
    "plt.xlabel('Taxa de Falsos Positivos')\n",
    "plt.ylabel('Taxa de Verdadeiros Positivos')\n",
    "plt.title('Curva Receiver Operating Characteristic')\n",
    "plt.legend(loc='lower right')\n",
    "plt.show()\n",
    "\n",
    "# Obtendo as curvas de aprendizado\n",
    "with parallel_backend('threading', n_jobs=-1):  # Usa todos os núcleos disponíveis\n",
    "    train_sizes, train_scores, test_scores = learning_curve(\n",
    "        svm_model, X_selected, y, cv=5, n_jobs=-1, train_sizes=np.linspace(0.1, 1.0, 5)\n",
    "    )\n",
    "\n",
    "# Calculando a média e desvio padrão das pontuações\n",
    "train_scores_mean = np.mean(train_scores, axis=1)\n",
    "test_scores_mean = np.mean(test_scores, axis=1)\n",
    "train_scores_std = np.std(train_scores, axis=1)\n",
    "test_scores_std = np.std(test_scores, axis=1)\n",
    "\n",
    "# Plotando as curvas de aprendizado\n",
    "plt.figure()\n",
    "plt.plot(train_sizes, train_scores_mean, label='Acurácia de Treinamento', color='blue')\n",
    "plt.plot(train_sizes, test_scores_mean, label='Acurácia de Teste', color='green')\n",
    "\n",
    "# Preenchendo a área entre as curvas\n",
    "plt.fill_between(train_sizes, train_scores_mean - train_scores_std, train_scores_mean + train_scores_std, color='blue', alpha=0.1)\n",
    "plt.fill_between(train_sizes, test_scores_mean - test_scores_std, test_scores_mean + test_scores_std, color='green', alpha=0.1)\n",
    "\n",
    "plt.title('Curvas de Aprendizado')\n",
    "plt.xlabel('Tamanho do Conjunto de Treinamento')\n",
    "plt.ylabel('Acurácia')\n",
    "plt.legend(loc='best')\n",
    "plt.grid()\n",
    "plt.show()"
   ]
  },
  {
   "cell_type": "markdown",
   "id": "b112f87c",
   "metadata": {},
   "source": [
    "## "
   ]
  },
  {
   "cell_type": "markdown",
   "id": "270fa4fd",
   "metadata": {},
   "source": [
    "## &emsp;&emsp;&emsp;3.2 Normalized Dataset"
   ]
  },
  {
   "cell_type": "code",
   "execution_count": null,
   "id": "11d7d224",
   "metadata": {},
   "outputs": [],
   "source": [
    "#reading the dataset\n",
    "df_by_nodules_normalized = pd.read_csv(\"final_by_nodules_normalized.csv\")\n",
    "\n",
    "#separate the features from the label\n",
    "X = df_by_nodules_normalized.drop(\"malignancy\", axis=1)\n",
    "y = df_by_nodules_normalized[\"malignancy\"]\n",
    "\n",
    "selector = SelectKBest(score_func=f_classif, k=50)\n",
    "X_selected = selector.fit_transform(X, y)\n",
    "\n",
    "# Convertendo X_selected para um DataFrame\n",
    "X_selected = pd.DataFrame(X_selected)\n",
    "X_selected = X_selected.round(10)\n",
    "\n",
    "\n",
    "# Divisão do conjunto de dados em conjuntos de treinamento e teste\n",
    "X_train, X_test, y_train, y_test = train_test_split(X_selected, y, test_size=0.3, random_state=42)\n",
    "\n",
    "# Obtendo os índices das características selecionadas\n",
    "selected_indices = selector.get_support(indices=True)\n",
    "# Obtendo os nomes das características selecionadas\n",
    "selected_features = X.columns[selected_indices]\n",
    "\n",
    "# Imprimindo os nomes das características selecionadas\n",
    "print(\"Características selecionadas:\")\n",
    "print(selected_features.tolist())\n",
    "# Imprimindo as primeiras linhas de X_selected, X_reduced e y\n",
    "print(\"Primeiras linhas de X_selected:\")\n",
    "print(X_selected[:5])  # Imprime as primeiras 5 linhas de X_selected\n",
    "\n",
    "\n",
    "print(\"\\nPrimeiras linhas de y:\")\n",
    "print(y.head())  # Imprime as primeiras 5 linhas de y"
   ]
  },
  {
   "cell_type": "code",
   "execution_count": null,
   "id": "59d60a6a",
   "metadata": {},
   "outputs": [],
   "source": [
    "# Criação do classificador SVM\n",
    "svm_model = SVC(kernel='rbf', C=10, gamma='scale', probability=True)\n",
    "# Ajuste do modelo SVM\n",
    "svm_model.fit(X_train, y_train)\n",
    "\n",
    "# Previsão com o modelo SVM\n",
    "y_pred_svm = svm_model.predict(X_test)\n",
    "\n",
    "# Cálculo da acurácia do modelo SVM\n",
    "accuracy_svm = accuracy_score(y_test, y_pred_svm)\n",
    "print(f'Acurácia do modelo SVM (Train-Test Split): {accuracy_svm:.2f}')\n",
    "\n",
    "\n",
    "# Relatório de classificação\n",
    "print(\"Relatório de Classificação:\")\n",
    "print(classification_report(y_test, y_pred))"
   ]
  },
  {
   "cell_type": "code",
   "execution_count": null,
   "id": "bc7362f8",
   "metadata": {},
   "outputs": [],
   "source": [
    "# Cálculo da acurácia com validação cruzada para o modelo SVM usando Joblib\n",
    "with parallel_backend('threading', n_jobs=-1):  # Usa todos os núcleos disponíveis\n",
    "    cv_scores_svm = cross_val_score(svm_model, X_selected, y, cv=5)\n",
    "\n",
    "print(f'Acurácia média com validação cruzada (10 dobras): {cv_scores_svm.mean():.2f} ± {cv_scores_svm.std():.2f}')\n"
   ]
  },
  {
   "cell_type": "code",
   "execution_count": null,
   "id": "b41fda18",
   "metadata": {},
   "outputs": [],
   "source": [
    "# Obtendo a matriz de confusão\n",
    "cm = confusion_matrix(y_test, y_pred)\n",
    "\n",
    "#plot the confusion matrix\n",
    "plt.figure(figsize=(6, 4))\n",
    "sns.heatmap(cm, annot=True, fmt=\"d\", cmap=\"Blues\", cbar=False)\n",
    "plt.xlabel('Rótulos Previsto')\n",
    "plt.ylabel('Rótulos Verdadeiros')\n",
    "plt.title('Matriz de Confusão')\n",
    "plt.show()\n",
    "\n",
    "\n",
    "#---------\n",
    "\n"
   ]
  },
  {
   "cell_type": "code",
   "execution_count": null,
   "id": "fd7053f3",
   "metadata": {},
   "outputs": [],
   "source": [
    "# Probabilidades para a classe positiva (classe 1)\n",
    "y_proba = svm_model.predict_proba(X_test)[:, 1]\n",
    "\n",
    "# Obtendo AUC\n",
    "roc_auc = roc_auc_score(y_test, y_proba)\n",
    "print(f'AUC: {roc_auc:.2f}')\n",
    "\n",
    "# Computando a curva ROC\n",
    "fpr, tpr, thresholds = roc_curve(y_test, y_proba)\n",
    "\n",
    "# Plotando a curva ROC\n",
    "plt.figure()\n",
    "plt.plot(fpr, tpr, label='Curva ROC (AUC = %0.2f)' % roc_auc)\n",
    "plt.plot([0, 1], [0, 1], 'k--')  # Linha diagonal\n",
    "plt.xlim([0.0, 1.0])\n",
    "plt.ylim([0.0, 1.05])\n",
    "plt.xlabel('Taxa de Falsos Positivos')\n",
    "plt.ylabel('Taxa de Verdadeiros Positivos')\n",
    "plt.title('Curva Receiver Operating Characteristic')\n",
    "plt.legend(loc='lower right')\n",
    "plt.show()\n",
    "\n",
    "# Obtendo as curvas de aprendizado\n",
    "with parallel_backend('threading', n_jobs=-1):  # Usa todos os núcleos disponíveis\n",
    "    train_sizes, train_scores, test_scores = learning_curve(\n",
    "        svm_model, X_selected, y, cv=5, n_jobs=-1, train_sizes=np.linspace(0.1, 1.0, 5)\n",
    "    )\n",
    "\n",
    "# Calculando a média e desvio padrão das pontuações\n",
    "train_scores_mean = np.mean(train_scores, axis=1)\n",
    "test_scores_mean = np.mean(test_scores, axis=1)\n",
    "train_scores_std = np.std(train_scores, axis=1)\n",
    "test_scores_std = np.std(test_scores, axis=1)\n",
    "\n",
    "# Plotando as curvas de aprendizado\n",
    "plt.figure()\n",
    "plt.plot(train_sizes, train_scores_mean, label='Acurácia de Treinamento', color='blue')\n",
    "plt.plot(train_sizes, test_scores_mean, label='Acurácia de Teste', color='green')\n",
    "\n",
    "# Preenchendo a área entre as curvas\n",
    "plt.fill_between(train_sizes, train_scores_mean - train_scores_std, train_scores_mean + train_scores_std, color='blue', alpha=0.1)\n",
    "plt.fill_between(train_sizes, test_scores_mean - test_scores_std, test_scores_mean + test_scores_std, color='green', alpha=0.1)\n",
    "\n",
    "plt.title('Curvas de Aprendizado')\n",
    "plt.xlabel('Tamanho do Conjunto de Treinamento')\n",
    "plt.ylabel('Acurácia')\n",
    "plt.legend(loc='best')\n",
    "plt.grid()\n",
    "plt.show()"
   ]
  },
  {
   "cell_type": "markdown",
   "id": "831b708d",
   "metadata": {},
   "source": [
    "# "
   ]
  },
  {
   "cell_type": "markdown",
   "id": "eb79e23e",
   "metadata": {},
   "source": [
    "# 4. Comparison"
   ]
  }
 ],
 "metadata": {
  "kernelspec": {
   "display_name": "Python 3",
   "language": "python",
   "name": "python3"
  },
  "language_info": {
   "codemirror_mode": {
    "name": "ipython",
    "version": 3
   },
   "file_extension": ".py",
   "mimetype": "text/x-python",
   "name": "python",
   "nbconvert_exporter": "python",
   "pygments_lexer": "ipython3",
   "version": "3.10.11"
  }
 },
 "nbformat": 4,
 "nbformat_minor": 5
}
